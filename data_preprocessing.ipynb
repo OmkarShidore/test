{
 "cells": [
  {
   "cell_type": "code",
   "execution_count": 1,
   "metadata": {},
   "outputs": [],
   "source": [
    "import os\n",
    "import pandas as pd\n",
    "import numpy as np"
   ]
  },
  {
   "cell_type": "code",
   "execution_count": 2,
   "metadata": {},
   "outputs": [],
   "source": [
    "root_dir=\"E:\\Developer\\Machine Learning and Deep Learning\\Pytorch\\image_classification\\Dataset\""
   ]
  },
  {
   "cell_type": "code",
   "execution_count": 3,
   "metadata": {},
   "outputs": [],
   "source": [
    "dir_list=os.listdir(root_dir)"
   ]
  },
  {
   "cell_type": "code",
   "execution_count": 4,
   "metadata": {},
   "outputs": [
    {
     "name": "stdout",
     "output_type": "stream",
     "text": [
      "csv saved...\n",
      "csv saved...\n"
     ]
    }
   ],
   "source": [
    "for dirs in dir_list[1:]:\n",
    "    sub_dir1=os.path.join(root_dir,dirs)\n",
    "    sub_dir2=os.path.join(sub_dir1,dirs)\n",
    "    \n",
    "    img_loc_list = []\n",
    "    label_list = []\n",
    "    \n",
    "    for labels in os.listdir(sub_dir2):\n",
    "        \n",
    "        data_dir = os.path.join(sub_dir2, labels)\n",
    "        for imgs in os.listdir(data_dir):\n",
    "            \n",
    "            if imgs.endswith('.jpg'):\n",
    "                img_loc_list.append(os.path.join(data_dir, imgs))\n",
    "                label_list.append(labels)\n",
    "    root_dict={'img_loc':img_loc_list,'img_label':label_list}\n",
    "    \n",
    "    df = pd.DataFrame(root_dict)\n",
    "    csv_name = dirs + '.csv'\n",
    "    df.to_csv(csv_name)\n",
    "    \n",
    "    if os.path.exists(csv_name):\n",
    "        print('csv saved...')"
   ]
  },
  {
   "cell_type": "code",
   "execution_count": 5,
   "metadata": {
    "scrolled": true
   },
   "outputs": [],
   "source": [
    "df=pd.DataFrame(root_dict)"
   ]
  },
  {
   "cell_type": "code",
   "execution_count": 6,
   "metadata": {},
   "outputs": [],
   "source": [
    "df.to_csv('test.csv')"
   ]
  },
  {
   "cell_type": "code",
   "execution_count": 7,
   "metadata": {},
   "outputs": [
    {
     "data": {
      "text/html": [
       "<div>\n",
       "<style scoped>\n",
       "    .dataframe tbody tr th:only-of-type {\n",
       "        vertical-align: middle;\n",
       "    }\n",
       "\n",
       "    .dataframe tbody tr th {\n",
       "        vertical-align: top;\n",
       "    }\n",
       "\n",
       "    .dataframe thead th {\n",
       "        text-align: right;\n",
       "    }\n",
       "</style>\n",
       "<table border=\"1\" class=\"dataframe\">\n",
       "  <thead>\n",
       "    <tr style=\"text-align: right;\">\n",
       "      <th></th>\n",
       "      <th>img_loc</th>\n",
       "      <th>img_label</th>\n",
       "    </tr>\n",
       "  </thead>\n",
       "  <tbody>\n",
       "    <tr>\n",
       "      <td>0</td>\n",
       "      <td>E:\\Developer\\Machine Learning and Deep Learnin...</td>\n",
       "      <td>buildings</td>\n",
       "    </tr>\n",
       "    <tr>\n",
       "      <td>1</td>\n",
       "      <td>E:\\Developer\\Machine Learning and Deep Learnin...</td>\n",
       "      <td>buildings</td>\n",
       "    </tr>\n",
       "    <tr>\n",
       "      <td>2</td>\n",
       "      <td>E:\\Developer\\Machine Learning and Deep Learnin...</td>\n",
       "      <td>buildings</td>\n",
       "    </tr>\n",
       "    <tr>\n",
       "      <td>3</td>\n",
       "      <td>E:\\Developer\\Machine Learning and Deep Learnin...</td>\n",
       "      <td>buildings</td>\n",
       "    </tr>\n",
       "    <tr>\n",
       "      <td>4</td>\n",
       "      <td>E:\\Developer\\Machine Learning and Deep Learnin...</td>\n",
       "      <td>buildings</td>\n",
       "    </tr>\n",
       "  </tbody>\n",
       "</table>\n",
       "</div>"
      ],
      "text/plain": [
       "                                             img_loc  img_label\n",
       "0  E:\\Developer\\Machine Learning and Deep Learnin...  buildings\n",
       "1  E:\\Developer\\Machine Learning and Deep Learnin...  buildings\n",
       "2  E:\\Developer\\Machine Learning and Deep Learnin...  buildings\n",
       "3  E:\\Developer\\Machine Learning and Deep Learnin...  buildings\n",
       "4  E:\\Developer\\Machine Learning and Deep Learnin...  buildings"
      ]
     },
     "execution_count": 7,
     "metadata": {},
     "output_type": "execute_result"
    }
   ],
   "source": [
    "df.head()"
   ]
  },
  {
   "cell_type": "code",
   "execution_count": null,
   "metadata": {},
   "outputs": [],
   "source": [
    "df1=pd.read_csv('')"
   ]
  }
 ],
 "metadata": {
  "kernelspec": {
   "display_name": "Python 3",
   "language": "python",
   "name": "python3"
  },
  "language_info": {
   "codemirror_mode": {
    "name": "ipython",
    "version": 3
   },
   "file_extension": ".py",
   "mimetype": "text/x-python",
   "name": "python",
   "nbconvert_exporter": "python",
   "pygments_lexer": "ipython3",
   "version": "3.7.4"
  }
 },
 "nbformat": 4,
 "nbformat_minor": 2
}
